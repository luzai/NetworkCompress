{
 "cells": [
  {
   "cell_type": "code",
   "execution_count": 2,
   "metadata": {
    "collapsed": false,
    "deletable": true,
    "editable": true
   },
   "outputs": [
    {
     "name": "stdout",
     "output_type": "stream",
     "text": [
      "The autoreload extension is already loaded. To reload it, use:\n",
      "  %reload_ext autoreload\n",
      "/new_disk_1/luzai/NetworkCompress/src\n"
     ]
    }
   ],
   "source": [
    "%load_ext autoreload\n",
    "%autoreload 2\n",
    "import networkx as nx \n",
    "import keras\n",
    "import tensorflow as tf\n",
    "import matplotlib.pyplot as plt\n",
    "%cd ../src\n",
    "tf.reset_default_graph()"
   ]
  },
  {
   "cell_type": "code",
   "execution_count": 4,
   "metadata": {
    "collapsed": false,
    "deletable": true,
    "editable": true
   },
   "outputs": [
    {
     "name": "stdout",
     "output_type": "stream",
     "text": [
      "car <tensorflow.python.client.session.Session object at 0x7fbe5641add0>\n",
      "<tensorflow.python.client.session.Session object at 0x7fbe5641add0>\n"
     ]
    }
   ],
   "source": [
    "from Config import * \n",
    "from Init import *\n",
    "from Utils import *\n",
    "\n",
    "def ha():\n",
    "    print tf.get_default_session() \n",
    "    \n",
    "with Config.sess.as_default():\n",
    "    print \"car\",tf.get_default_session()\n",
    "    ha()\n",
    "    \n",
    "from Net2Net import *\n",
    "dbg = True\n",
    "if dbg:\n",
    "    config = Config(epochs=0, verbose=1, limit_data=9999)\n",
    "else:\n",
    "    config = Config(epochs=100, verbose=1, limit_data=1)\n",
    "model_l = [[\"Conv2D\", 'Conv2D1', {'filters': 16}],\n",
    "           [\"Conv2D\", 'Conv2D2', {'filters': 64}],\n",
    "           [\"Conv2D\", 'Conv2D3', {'filters': 10}],\n",
    "           ['GlobalMaxPooling2D', 'GlobalMaxPooling2D1', {}],\n",
    "           ['Activation', 'Activation1', {'activation_type': 'softmax'}]]\n",
    "graph = MyGraph(model_l)\n",
    "teacher_model = MyModel(config, graph)\n"
   ]
  },
  {
   "cell_type": "code",
   "execution_count": 6,
   "metadata": {
    "collapsed": false,
    "deletable": true,
    "editable": true
   },
   "outputs": [],
   "source": [
    "graph = tf.get_default_graph()\n",
    "graph_def = graph.as_graph_def()\n",
    "# i_vis_graph(graph_def)"
   ]
  },
  {
   "cell_type": "code",
   "execution_count": 7,
   "metadata": {
    "collapsed": false,
    "deletable": true,
    "editable": true
   },
   "outputs": [
    {
     "name": "stdout",
     "output_type": "stream",
     "text": [
      "Train on 5 samples, validate on 1 samples\n",
      "1/1 [==============================] - 8s\n",
      "\n",
      "-- loss and accuracy --\n",
      "\n",
      "[2.3503894805908203, 0.0]\n"
     ]
    }
   ],
   "source": [
    "teacher_model.comp_fit_eval()\n",
    "teacher_model.model.save_weights(\"tmp.h5\")\n",
    "Utils.vis_model(teacher_model)"
   ]
  },
  {
   "cell_type": "code",
   "execution_count": 8,
   "metadata": {
    "collapsed": false,
    "deletable": true,
    "editable": true
   },
   "outputs": [],
   "source": [
    "# tf.reset_default_graph()\n",
    "model_l = [[\"Conv2D\", 'Conv2D1', {'filters': 16}],\n",
    "           [\"Conv2D\", 'Conv2D2', {'filters': 64}],\n",
    "           [\"Conv2D\", 'Conv2D3', {'filters': 10}],\n",
    "           ['GlobalMaxPooling2D', 'GlobalMaxPooling2D1', {}],\n",
    "           ['Activation', 'Activation1', {'activation_type': 'softmax'}]]\n",
    "graph = MyGraph(model_l)\n",
    "teacher_model = MyModel(config, graph)\n",
    "net2net = Net2Net()\n",
    "# student_model=MyModel(config=config,model=teacher_model)\n",
    "# student_model = net2net.wider_conv2d(student_model, name='Conv2D2', width_ratio=2)\n",
    "student_model = net2net.deeper_conv2d(teacher_model, name='Conv2D2')\n",
    "# student_model = net2net.skip(student_model, from_name='Conv2D1', to_name='Conv2D2')"
   ]
  },
  {
   "cell_type": "code",
   "execution_count": 9,
   "metadata": {
    "collapsed": false,
    "deletable": true,
    "editable": true
   },
   "outputs": [],
   "source": [
    "graph = tf.get_default_graph()\n",
    "graph_def = graph.as_graph_def()\n",
    "# i_vis_graph(graph_def)"
   ]
  },
  {
   "cell_type": "code",
   "execution_count": 12,
   "metadata": {
    "collapsed": false,
    "deletable": true,
    "editable": true
   },
   "outputs": [],
   "source": [
    "# tf.train.export_meta_graph('tmp.pbtxt',graph_def=tf.get_default_graph().as_graph_def())\n",
    "# gdef=tf.GraphDef()\n",
    "# from google.protobuf import text_format \n",
    "# text_format.Merge(open('tmp.pbtxt').read(),gdef)\n",
    "# i_vis_graph(gdef)\n",
    "# tf.train.import_meta_graph('tmp.pbtxt')"
   ]
  },
  {
   "cell_type": "code",
   "execution_count": 10,
   "metadata": {
    "collapsed": false,
    "deletable": true,
    "editable": true
   },
   "outputs": [],
   "source": [
    "minput=Input(shape=(3,32,32))\n",
    "x=minput\n",
    "x=Conv2D(kernel_size=3, filters=16)(x)\n",
    "y=Conv2D(kernel_size=3,filters=64)(x)"
   ]
  },
  {
   "cell_type": "code",
   "execution_count": 11,
   "metadata": {
    "collapsed": false,
    "deletable": true,
    "editable": true
   },
   "outputs": [
    {
     "name": "stdout",
     "output_type": "stream",
     "text": [
      "(None, 16, 30, 30)\n",
      "(None, 64, 28, 28)\n"
     ]
    }
   ],
   "source": [
    "import keras.backend.tensorflow_backend as ktf \n",
    "print ktf.int_shape(x)\n",
    "print ktf.int_shape(y)"
   ]
  },
  {
   "cell_type": "code",
   "execution_count": 12,
   "metadata": {
    "collapsed": false,
    "deletable": true,
    "editable": true
   },
   "outputs": [
    {
     "ename": "AttributeError",
     "evalue": "'NoneType' object has no attribute 'inbound_nodes'",
     "output_type": "error",
     "traceback": [
      "\u001b[0;31m---------------------------------------------------------------------------\u001b[0m",
      "\u001b[0;31mAttributeError\u001b[0m                            Traceback (most recent call last)",
      "\u001b[0;32m<ipython-input-12-262c5c06884b>\u001b[0m in \u001b[0;36m<module>\u001b[0;34m()\u001b[0m\n\u001b[1;32m     12\u001b[0m \u001b[0mz\u001b[0m\u001b[0;34m=\u001b[0m\u001b[0mkeras\u001b[0m\u001b[0;34m.\u001b[0m\u001b[0mlayers\u001b[0m\u001b[0;34m.\u001b[0m\u001b[0mConcatenate\u001b[0m\u001b[0;34m(\u001b[0m\u001b[0maxis\u001b[0m\u001b[0;34m=\u001b[0m\u001b[0;36m1\u001b[0m\u001b[0;34m)\u001b[0m\u001b[0;34m(\u001b[0m\u001b[0;34m[\u001b[0m\u001b[0mx\u001b[0m\u001b[0;34m,\u001b[0m\u001b[0my\u001b[0m\u001b[0;34m]\u001b[0m\u001b[0;34m)\u001b[0m\u001b[0;34m\u001b[0m\u001b[0m\n\u001b[1;32m     13\u001b[0m \u001b[0mz\u001b[0m\u001b[0;34m=\u001b[0m\u001b[0mConv2D\u001b[0m\u001b[0;34m(\u001b[0m\u001b[0mkernel_size\u001b[0m\u001b[0;34m=\u001b[0m\u001b[0;36m3\u001b[0m\u001b[0;34m,\u001b[0m\u001b[0mfilters\u001b[0m\u001b[0;34m=\u001b[0m\u001b[0;36m10\u001b[0m\u001b[0;34m)\u001b[0m\u001b[0;34m(\u001b[0m\u001b[0mz\u001b[0m\u001b[0;34m)\u001b[0m\u001b[0;34m\u001b[0m\u001b[0m\n\u001b[0;32m---> 14\u001b[0;31m \u001b[0mmodel\u001b[0m\u001b[0;34m=\u001b[0m\u001b[0mModel\u001b[0m\u001b[0;34m(\u001b[0m\u001b[0minputs\u001b[0m\u001b[0;34m=\u001b[0m\u001b[0mminput\u001b[0m\u001b[0;34m,\u001b[0m\u001b[0moutputs\u001b[0m\u001b[0;34m=\u001b[0m\u001b[0mz\u001b[0m\u001b[0;34m)\u001b[0m\u001b[0;34m\u001b[0m\u001b[0m\n\u001b[0m",
      "\u001b[0;32m/new_disk_1/luzai/App/mpy/local/lib/python2.7/site-packages/keras/legacy/interfaces.pyc\u001b[0m in \u001b[0;36mwrapper\u001b[0;34m(*args, **kwargs)\u001b[0m\n\u001b[1;32m     86\u001b[0m                 warnings.warn('Update your `' + object_name +\n\u001b[1;32m     87\u001b[0m                               '` call to the Keras 2 API: ' + signature, stacklevel=2)\n\u001b[0;32m---> 88\u001b[0;31m             \u001b[0;32mreturn\u001b[0m \u001b[0mfunc\u001b[0m\u001b[0;34m(\u001b[0m\u001b[0;34m*\u001b[0m\u001b[0margs\u001b[0m\u001b[0;34m,\u001b[0m \u001b[0;34m**\u001b[0m\u001b[0mkwargs\u001b[0m\u001b[0;34m)\u001b[0m\u001b[0;34m\u001b[0m\u001b[0m\n\u001b[0m\u001b[1;32m     89\u001b[0m         \u001b[0mwrapper\u001b[0m\u001b[0;34m.\u001b[0m\u001b[0m_legacy_support_signature\u001b[0m \u001b[0;34m=\u001b[0m \u001b[0minspect\u001b[0m\u001b[0;34m.\u001b[0m\u001b[0mgetargspec\u001b[0m\u001b[0;34m(\u001b[0m\u001b[0mfunc\u001b[0m\u001b[0;34m)\u001b[0m\u001b[0;34m\u001b[0m\u001b[0m\n\u001b[1;32m     90\u001b[0m         \u001b[0;32mreturn\u001b[0m \u001b[0mwrapper\u001b[0m\u001b[0;34m\u001b[0m\u001b[0m\n",
      "\u001b[0;32m/new_disk_1/luzai/App/mpy/local/lib/python2.7/site-packages/keras/engine/topology.pyc\u001b[0m in \u001b[0;36m__init__\u001b[0;34m(self, inputs, outputs, name)\u001b[0m\n\u001b[1;32m   1652\u001b[0m         \u001b[0;32mfor\u001b[0m \u001b[0mx\u001b[0m \u001b[0;32min\u001b[0m \u001b[0mself\u001b[0m\u001b[0;34m.\u001b[0m\u001b[0moutputs\u001b[0m\u001b[0;34m:\u001b[0m\u001b[0;34m\u001b[0m\u001b[0m\n\u001b[1;32m   1653\u001b[0m             \u001b[0mseen_nodes\u001b[0m \u001b[0;34m=\u001b[0m \u001b[0mset\u001b[0m\u001b[0;34m(\u001b[0m\u001b[0;34m)\u001b[0m\u001b[0;34m\u001b[0m\u001b[0m\n\u001b[0;32m-> 1654\u001b[0;31m             \u001b[0mbuild_map_of_graph\u001b[0m\u001b[0;34m(\u001b[0m\u001b[0mx\u001b[0m\u001b[0;34m,\u001b[0m \u001b[0mseen_nodes\u001b[0m\u001b[0;34m,\u001b[0m \u001b[0mdepth\u001b[0m\u001b[0;34m=\u001b[0m\u001b[0;36m0\u001b[0m\u001b[0;34m)\u001b[0m\u001b[0;34m\u001b[0m\u001b[0m\n\u001b[0m\u001b[1;32m   1655\u001b[0m \u001b[0;34m\u001b[0m\u001b[0m\n\u001b[1;32m   1656\u001b[0m         \u001b[0;31m# Build a dict {depth: list of nodes with this depth}\u001b[0m\u001b[0;34m\u001b[0m\u001b[0;34m\u001b[0m\u001b[0m\n",
      "\u001b[0;32m/new_disk_1/luzai/App/mpy/local/lib/python2.7/site-packages/keras/engine/topology.pyc\u001b[0m in \u001b[0;36mbuild_map_of_graph\u001b[0;34m(tensor, seen_nodes, depth, layer, node_index, tensor_index)\u001b[0m\n\u001b[1;32m   1648\u001b[0m                 \u001b[0;32mif\u001b[0m \u001b[0mnode_marker\u001b[0m \u001b[0;32mnot\u001b[0m \u001b[0;32min\u001b[0m \u001b[0mseen_nodes\u001b[0m\u001b[0;34m:\u001b[0m\u001b[0;34m\u001b[0m\u001b[0m\n\u001b[1;32m   1649\u001b[0m                     build_map_of_graph(x, seen_nodes, current_depth + 1,\n\u001b[0;32m-> 1650\u001b[0;31m                                        layer, node_index, tensor_index)\n\u001b[0m\u001b[1;32m   1651\u001b[0m \u001b[0;34m\u001b[0m\u001b[0m\n\u001b[1;32m   1652\u001b[0m         \u001b[0;32mfor\u001b[0m \u001b[0mx\u001b[0m \u001b[0;32min\u001b[0m \u001b[0mself\u001b[0m\u001b[0;34m.\u001b[0m\u001b[0moutputs\u001b[0m\u001b[0;34m:\u001b[0m\u001b[0;34m\u001b[0m\u001b[0m\n",
      "\u001b[0;32m/new_disk_1/luzai/App/mpy/local/lib/python2.7/site-packages/keras/engine/topology.pyc\u001b[0m in \u001b[0;36mbuild_map_of_graph\u001b[0;34m(tensor, seen_nodes, depth, layer, node_index, tensor_index)\u001b[0m\n\u001b[1;32m   1643\u001b[0m                 \u001b[0mnode_index\u001b[0m \u001b[0;34m=\u001b[0m \u001b[0mnode\u001b[0m\u001b[0;34m.\u001b[0m\u001b[0mnode_indices\u001b[0m\u001b[0;34m[\u001b[0m\u001b[0mi\u001b[0m\u001b[0;34m]\u001b[0m\u001b[0;34m\u001b[0m\u001b[0m\n\u001b[1;32m   1644\u001b[0m                 \u001b[0mtensor_index\u001b[0m \u001b[0;34m=\u001b[0m \u001b[0mnode\u001b[0m\u001b[0;34m.\u001b[0m\u001b[0mtensor_indices\u001b[0m\u001b[0;34m[\u001b[0m\u001b[0mi\u001b[0m\u001b[0;34m]\u001b[0m\u001b[0;34m\u001b[0m\u001b[0m\n\u001b[0;32m-> 1645\u001b[0;31m                 \u001b[0mnext_node\u001b[0m \u001b[0;34m=\u001b[0m \u001b[0mlayer\u001b[0m\u001b[0;34m.\u001b[0m\u001b[0minbound_nodes\u001b[0m\u001b[0;34m[\u001b[0m\u001b[0mnode_index\u001b[0m\u001b[0;34m]\u001b[0m\u001b[0;34m\u001b[0m\u001b[0m\n\u001b[0m\u001b[1;32m   1646\u001b[0m                 \u001b[0;31m# use node_marker to prevent cycles\u001b[0m\u001b[0;34m\u001b[0m\u001b[0;34m\u001b[0m\u001b[0m\n\u001b[1;32m   1647\u001b[0m                 \u001b[0mnode_marker\u001b[0m \u001b[0;34m=\u001b[0m \u001b[0mmake_node_marker\u001b[0m\u001b[0;34m(\u001b[0m\u001b[0mnext_node\u001b[0m\u001b[0;34m,\u001b[0m \u001b[0mcurrent_depth\u001b[0m \u001b[0;34m+\u001b[0m \u001b[0;36m1\u001b[0m\u001b[0;34m)\u001b[0m\u001b[0;34m\u001b[0m\u001b[0m\n",
      "\u001b[0;31mAttributeError\u001b[0m: 'NoneType' object has no attribute 'inbound_nodes'"
     ]
    }
   ],
   "source": [
    "def my_resize(x,new_shape):\n",
    "    import tensorflow as tf\n",
    "    # original_shape = ktf.int_shape(x)\n",
    "    # new_shape = tf.shape(x)\n",
    "    new_shape = tf.constant(np.array(new_shape).astype('int32'))\n",
    "    x = ktf.permute_dimensions(x, [0, 2, 3, 1])\n",
    "    x = tf.image.resize_nearest_neighbor(x, new_shape)\n",
    "    x = ktf.permute_dimensions(x, [0, 3, 1, 2])\n",
    "\n",
    "    return  x\n",
    "x = my_resize(x,(28,28))\n",
    "z=keras.layers.Concatenate(axis=1)([x,y])\n",
    "z=Conv2D(kernel_size=3,filters=10)(z)\n",
    "model=Model(inputs=minput,outputs=z)"
   ]
  }
 ],
 "metadata": {
  "kernelspec": {
   "display_name": "mpy",
   "language": "python",
   "name": "mpy"
  },
  "language_info": {
   "codemirror_mode": {
    "name": "ipython",
    "version": 2
   },
   "file_extension": ".py",
   "mimetype": "text/x-python",
   "name": "python",
   "nbconvert_exporter": "python",
   "pygments_lexer": "ipython2",
   "version": "2.7.8"
  }
 },
 "nbformat": 4,
 "nbformat_minor": 0
}
