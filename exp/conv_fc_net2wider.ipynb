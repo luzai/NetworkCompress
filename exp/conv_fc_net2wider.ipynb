{
 "cells": [
  {
   "cell_type": "code",
   "execution_count": 1,
   "metadata": {
    "collapsed": false
   },
   "outputs": [
    {
     "name": "stderr",
     "output_type": "stream",
     "text": [
      "Using Theano backend.\n",
      "Using gpu device 0: Quadro M5000 (CNMeM is enabled with initial size: 1.0% of memory, cuDNN 5110)\n",
      "/usr/lib/python2.7/site-packages/theano/sandbox/cuda/__init__.py:600: UserWarning: Your cuDNN version is more recent than the one Theano officially supports. If you see any problems, try updating Theano or downgrading cuDNN to version 5.\n",
      "  warnings.warn(warn)\n"
     ]
    },
    {
     "name": "stdout",
     "output_type": "stream",
     "text": [
      "th\n"
     ]
    }
   ],
   "source": [
    "# coding: utf-8\n",
    "import sys\n",
    "sys.path.insert(0,\"/home/xlwang/NetworkCompress/src\")\n",
    "\n",
    "import os\n",
    "os.environ[\"KERAS_BACKEND\"]=\"theano\"\n",
    "# os.environ[\"KERAS_IMAGE_DIM_ORDERING\"]=\"tf\"\n",
    "import keras\n",
    "from keras import backend as K\n",
    "K.set_image_dim_ordering('th')\n",
    "print keras.backend.image_dim_ordering()\n",
    "# print keras.backend.image_data_format()\n"
   ]
  },
  {
   "cell_type": "code",
   "execution_count": 2,
   "metadata": {
    "collapsed": false
   },
   "outputs": [
    {
     "name": "stdout",
     "output_type": "stream",
     "text": [
      "init\n"
     ]
    },
    {
     "name": "stderr",
     "output_type": "stream",
     "text": [
      "/usr/lib/python2.7/site-packages/subprocess32.py:472: RuntimeWarning: The _posixsubprocess module is not being used. Child process reliability may suffer if your program uses threads.\n",
      "  \"program uses threads.\", RuntimeWarning)\n"
     ]
    },
    {
     "name": "stdout",
     "output_type": "stream",
     "text": [
      "reload\n",
      "using keras backend theano\n",
      "using gpu\n",
      "\n",
      "------------------------------\n",
      "\n"
     ]
    }
   ],
   "source": [
    "\n",
    "from IPython.display import SVG\n",
    "from keras.utils.visualize_util import model_to_dot\n",
    "\n",
    "from net2net import *\n",
    "input_shape=(1,2,2)\n",
    "%matplotlib inline\n",
    "def make_model_for_conv_fc(width,with_activation=False,with_max_pool=False,with_dropout=False):\n",
    "    input_node=Input(shape=(input_shape),name=\"input\")\n",
    "    x=Convolution2D(width,1,1,name='conv8',border_mode=\"same\"\n",
    "                    ,activation='relu'if  with_activation else None\n",
    "                    )(input_node)\n",
    "    x=MaxPooling2D(name=\"pool1\")(x)  if with_max_pool else x\n",
    "    x=Dropout(0.25,name=\"drop1\")(x) if with_dropout else x\n",
    "    x=Flatten(name=\"flatten\")(x)\n",
    "    output_node=Dense(4,name='fc1'\n",
    "            ,activation='relu'if  with_activation else None\n",
    "            )(x)\n",
    "    model=Model(input=input_node,output=output_node)\n",
    "    model.trainable=False\n",
    "    return model\n",
    "np.random.seed(1)\n",
    "input_inst=np.random.random((1,)+input_shape)\n"
   ]
  },
  {
   "cell_type": "code",
   "execution_count": 3,
   "metadata": {
    "collapsed": false
   },
   "outputs": [
    {
     "name": "stdout",
     "output_type": "stream",
     "text": [
      "[('conv8', (2, 1, 1, 1), (2,)), ('fc1', (8, 4), (4,))]\n",
      "[('conv8',\n",
      "  [array([[[[-0.99912524]]],\n",
      "\n",
      "\n",
      "       [[[-1.15304053]]]], dtype=float32),\n",
      "   array([ 0.,  0.], dtype=float32)]),\n",
      " ('fc1',\n",
      "  [array([[-0.44369507, -0.21841012, -0.14599285,  0.05489515],\n",
      "       [-0.11427622,  0.26193994, -0.41796765,  0.53473878],\n",
      "       [-0.6683749 ,  0.24107747, -0.11694867,  0.08299995],\n",
      "       [-0.50856966, -0.42694896,  0.42531705,  0.66222185],\n",
      "       [-0.26385805,  0.27198526,  0.53229463,  0.55805808],\n",
      "       [-0.5868361 , -0.65187496, -0.4669303 ,  0.53477424],\n",
      "       [-0.56802338, -0.11157066,  0.64755356,  0.04690279],\n",
      "       [ 0.27135521, -0.26090029,  0.26375213,  0.47323215]], dtype=float32),\n",
      "   array([ 0.,  0.,  0.,  0.], dtype=float32)])]\n",
      "[[[[ -4.16657209e-01  -7.19694436e-01]\n",
      "   [ -1.14274764e-04  -3.02068114e-01]]\n",
      "\n",
      "  [[ -4.80843246e-01  -8.30563366e-01]\n",
      "   [ -1.31878798e-04  -3.48601729e-01]]]] (1, 2, 2, 2)\n",
      "[[ -4.16657209e-01  -7.19694436e-01  -1.14274764e-04  -3.02068114e-01\n",
      "   -4.80843246e-01  -8.30563366e-01  -1.31878798e-04  -3.48601729e-01]] (1, 8)\n",
      "[[ 0.94057065  0.53303176  0.27301165 -1.48524463]] (1, 4)\n"
     ]
    }
   ],
   "source": [
    "model=make_model_for_conv_fc(2)\n",
    "model2=make_model_for_conv_fc(4)\n",
    "ln=np.array([l.name for l in model.layers])[[1,3]]\n",
    "lw=np.array([l.get_weights() for l in model.layers ])[[1,3]]\n",
    "pprint([ (a,b[0].shape,b[1].shape) for a,b in  zip(ln,lw) ])\n",
    "pprint(zip(ln,lw)) \n",
    "\n",
    "conv8_inst=K.function(inputs=[model.input,K.learning_phase()],outputs=[model.get_layer(\"conv8\").output])([input_inst,0])[0]\n",
    "print conv8_inst,conv8_inst.shape\n",
    "\n",
    "flatten_inst=K.function(inputs=[model.input,K.learning_phase()],outputs=[model.get_layer(\"flatten\").output])([input_inst,0])[0]\n",
    "print flatten_inst,flatten_inst.shape\n",
    "\n",
    "fc1_inst=K.function(inputs=[model.input,K.learning_phase()],outputs=[model.get_layer(\"fc1\").output])([input_inst,0])[0]\n",
    "print fc1_inst,fc1_inst.shape"
   ]
  },
  {
   "cell_type": "code",
   "execution_count": 4,
   "metadata": {
    "collapsed": false
   },
   "outputs": [
    {
     "data": {
      "image/svg+xml": [
       "<svg height=\"304pt\" viewBox=\"0.00 0.00 302.00 304.00\" width=\"302pt\" xmlns=\"http://www.w3.org/2000/svg\" xmlns:xlink=\"http://www.w3.org/1999/xlink\">\n",
       "<g class=\"graph\" id=\"graph0\" transform=\"scale(1 1) rotate(0) translate(4 300)\">\n",
       "<title>G</title>\n",
       "<polygon fill=\"white\" points=\"-4,4 -4,-300 298,-300 298,4 -4,4\" stroke=\"none\"/>\n",
       "<!-- 140119041297296 -->\n",
       "<g class=\"node\" id=\"node1\"><title>140119041297296</title>\n",
       "<polygon fill=\"none\" points=\"14.5,-249.5 14.5,-295.5 279.5,-295.5 279.5,-249.5 14.5,-249.5\" stroke=\"black\"/>\n",
       "<text font-family=\"Times,serif\" font-size=\"14.00\" text-anchor=\"middle\" x=\"70.5\" y=\"-268.8\">input: InputLayer</text>\n",
       "<polyline fill=\"none\" points=\"126.5,-249.5 126.5,-295.5 \" stroke=\"black\"/>\n",
       "<text font-family=\"Times,serif\" font-size=\"14.00\" text-anchor=\"middle\" x=\"154\" y=\"-280.3\">input:</text>\n",
       "<polyline fill=\"none\" points=\"126.5,-272.5 181.5,-272.5 \" stroke=\"black\"/>\n",
       "<text font-family=\"Times,serif\" font-size=\"14.00\" text-anchor=\"middle\" x=\"154\" y=\"-257.3\">output:</text>\n",
       "<polyline fill=\"none\" points=\"181.5,-249.5 181.5,-295.5 \" stroke=\"black\"/>\n",
       "<text font-family=\"Times,serif\" font-size=\"14.00\" text-anchor=\"middle\" x=\"230.5\" y=\"-280.3\">(None, 1, 2, 2)</text>\n",
       "<polyline fill=\"none\" points=\"181.5,-272.5 279.5,-272.5 \" stroke=\"black\"/>\n",
       "<text font-family=\"Times,serif\" font-size=\"14.00\" text-anchor=\"middle\" x=\"230.5\" y=\"-257.3\">(None, 1, 2, 2)</text>\n",
       "</g>\n",
       "<!-- 140119040991312 -->\n",
       "<g class=\"node\" id=\"node2\"><title>140119040991312</title>\n",
       "<polygon fill=\"none\" points=\"0,-166.5 0,-212.5 294,-212.5 294,-166.5 0,-166.5\" stroke=\"black\"/>\n",
       "<text font-family=\"Times,serif\" font-size=\"14.00\" text-anchor=\"middle\" x=\"70.5\" y=\"-185.8\">conv8: Convolution2D</text>\n",
       "<polyline fill=\"none\" points=\"141,-166.5 141,-212.5 \" stroke=\"black\"/>\n",
       "<text font-family=\"Times,serif\" font-size=\"14.00\" text-anchor=\"middle\" x=\"168.5\" y=\"-197.3\">input:</text>\n",
       "<polyline fill=\"none\" points=\"141,-189.5 196,-189.5 \" stroke=\"black\"/>\n",
       "<text font-family=\"Times,serif\" font-size=\"14.00\" text-anchor=\"middle\" x=\"168.5\" y=\"-174.3\">output:</text>\n",
       "<polyline fill=\"none\" points=\"196,-166.5 196,-212.5 \" stroke=\"black\"/>\n",
       "<text font-family=\"Times,serif\" font-size=\"14.00\" text-anchor=\"middle\" x=\"245\" y=\"-197.3\">(None, 1, 2, 2)</text>\n",
       "<polyline fill=\"none\" points=\"196,-189.5 294,-189.5 \" stroke=\"black\"/>\n",
       "<text font-family=\"Times,serif\" font-size=\"14.00\" text-anchor=\"middle\" x=\"245\" y=\"-174.3\">(None, 2, 2, 2)</text>\n",
       "</g>\n",
       "<!-- 140119041297296&#45;&gt;140119040991312 -->\n",
       "<g class=\"edge\" id=\"edge1\"><title>140119041297296-&gt;140119040991312</title>\n",
       "<path d=\"M147,-249.366C147,-241.152 147,-231.658 147,-222.725\" fill=\"none\" stroke=\"black\"/>\n",
       "<polygon fill=\"black\" points=\"150.5,-222.607 147,-212.607 143.5,-222.607 150.5,-222.607\" stroke=\"black\"/>\n",
       "</g>\n",
       "<!-- 140119040511504 -->\n",
       "<g class=\"node\" id=\"node3\"><title>140119040511504</title>\n",
       "<polygon fill=\"none\" points=\"22.5,-83.5 22.5,-129.5 271.5,-129.5 271.5,-83.5 22.5,-83.5\" stroke=\"black\"/>\n",
       "<text font-family=\"Times,serif\" font-size=\"14.00\" text-anchor=\"middle\" x=\"70.5\" y=\"-102.8\">flatten: Flatten</text>\n",
       "<polyline fill=\"none\" points=\"118.5,-83.5 118.5,-129.5 \" stroke=\"black\"/>\n",
       "<text font-family=\"Times,serif\" font-size=\"14.00\" text-anchor=\"middle\" x=\"146\" y=\"-114.3\">input:</text>\n",
       "<polyline fill=\"none\" points=\"118.5,-106.5 173.5,-106.5 \" stroke=\"black\"/>\n",
       "<text font-family=\"Times,serif\" font-size=\"14.00\" text-anchor=\"middle\" x=\"146\" y=\"-91.3\">output:</text>\n",
       "<polyline fill=\"none\" points=\"173.5,-83.5 173.5,-129.5 \" stroke=\"black\"/>\n",
       "<text font-family=\"Times,serif\" font-size=\"14.00\" text-anchor=\"middle\" x=\"222.5\" y=\"-114.3\">(None, 2, 2, 2)</text>\n",
       "<polyline fill=\"none\" points=\"173.5,-106.5 271.5,-106.5 \" stroke=\"black\"/>\n",
       "<text font-family=\"Times,serif\" font-size=\"14.00\" text-anchor=\"middle\" x=\"222.5\" y=\"-91.3\">(None, 8)</text>\n",
       "</g>\n",
       "<!-- 140119040991312&#45;&gt;140119040511504 -->\n",
       "<g class=\"edge\" id=\"edge2\"><title>140119040991312-&gt;140119040511504</title>\n",
       "<path d=\"M147,-166.366C147,-158.152 147,-148.658 147,-139.725\" fill=\"none\" stroke=\"black\"/>\n",
       "<polygon fill=\"black\" points=\"150.5,-139.607 147,-129.607 143.5,-139.607 150.5,-139.607\" stroke=\"black\"/>\n",
       "</g>\n",
       "<!-- 140119039827856 -->\n",
       "<g class=\"node\" id=\"node4\"><title>140119039827856</title>\n",
       "<polygon fill=\"none\" points=\"47.5,-0.5 47.5,-46.5 246.5,-46.5 246.5,-0.5 47.5,-0.5\" stroke=\"black\"/>\n",
       "<text font-family=\"Times,serif\" font-size=\"14.00\" text-anchor=\"middle\" x=\"85\" y=\"-19.8\">fc1: Dense</text>\n",
       "<polyline fill=\"none\" points=\"122.5,-0.5 122.5,-46.5 \" stroke=\"black\"/>\n",
       "<text font-family=\"Times,serif\" font-size=\"14.00\" text-anchor=\"middle\" x=\"150\" y=\"-31.3\">input:</text>\n",
       "<polyline fill=\"none\" points=\"122.5,-23.5 177.5,-23.5 \" stroke=\"black\"/>\n",
       "<text font-family=\"Times,serif\" font-size=\"14.00\" text-anchor=\"middle\" x=\"150\" y=\"-8.3\">output:</text>\n",
       "<polyline fill=\"none\" points=\"177.5,-0.5 177.5,-46.5 \" stroke=\"black\"/>\n",
       "<text font-family=\"Times,serif\" font-size=\"14.00\" text-anchor=\"middle\" x=\"212\" y=\"-31.3\">(None, 8)</text>\n",
       "<polyline fill=\"none\" points=\"177.5,-23.5 246.5,-23.5 \" stroke=\"black\"/>\n",
       "<text font-family=\"Times,serif\" font-size=\"14.00\" text-anchor=\"middle\" x=\"212\" y=\"-8.3\">(None, 4)</text>\n",
       "</g>\n",
       "<!-- 140119040511504&#45;&gt;140119039827856 -->\n",
       "<g class=\"edge\" id=\"edge3\"><title>140119040511504-&gt;140119039827856</title>\n",
       "<path d=\"M147,-83.3664C147,-75.1516 147,-65.6579 147,-56.7252\" fill=\"none\" stroke=\"black\"/>\n",
       "<polygon fill=\"black\" points=\"150.5,-56.6068 147,-46.6068 143.5,-56.6069 150.5,-56.6068\" stroke=\"black\"/>\n",
       "</g>\n",
       "</g>\n",
       "</svg>"
      ],
      "text/plain": [
       "<IPython.core.display.SVG object>"
      ]
     },
     "execution_count": 4,
     "metadata": {},
     "output_type": "execute_result"
    }
   ],
   "source": [
    "SVG(model_to_dot(model,show_shapes=True).create(prog='dot', format='svg'))"
   ]
  },
  {
   "cell_type": "code",
   "execution_count": 5,
   "metadata": {
    "collapsed": false
   },
   "outputs": [
    {
     "data": {
      "image/svg+xml": [
       "<svg height=\"304pt\" viewBox=\"0.00 0.00 302.00 304.00\" width=\"302pt\" xmlns=\"http://www.w3.org/2000/svg\" xmlns:xlink=\"http://www.w3.org/1999/xlink\">\n",
       "<g class=\"graph\" id=\"graph0\" transform=\"scale(1 1) rotate(0) translate(4 300)\">\n",
       "<title>G</title>\n",
       "<polygon fill=\"white\" points=\"-4,4 -4,-300 298,-300 298,4 -4,4\" stroke=\"none\"/>\n",
       "<!-- 140119041297232 -->\n",
       "<g class=\"node\" id=\"node1\"><title>140119041297232</title>\n",
       "<polygon fill=\"none\" points=\"14.5,-249.5 14.5,-295.5 279.5,-295.5 279.5,-249.5 14.5,-249.5\" stroke=\"black\"/>\n",
       "<text font-family=\"Times,serif\" font-size=\"14.00\" text-anchor=\"middle\" x=\"70.5\" y=\"-268.8\">input: InputLayer</text>\n",
       "<polyline fill=\"none\" points=\"126.5,-249.5 126.5,-295.5 \" stroke=\"black\"/>\n",
       "<text font-family=\"Times,serif\" font-size=\"14.00\" text-anchor=\"middle\" x=\"154\" y=\"-280.3\">input:</text>\n",
       "<polyline fill=\"none\" points=\"126.5,-272.5 181.5,-272.5 \" stroke=\"black\"/>\n",
       "<text font-family=\"Times,serif\" font-size=\"14.00\" text-anchor=\"middle\" x=\"154\" y=\"-257.3\">output:</text>\n",
       "<polyline fill=\"none\" points=\"181.5,-249.5 181.5,-295.5 \" stroke=\"black\"/>\n",
       "<text font-family=\"Times,serif\" font-size=\"14.00\" text-anchor=\"middle\" x=\"230.5\" y=\"-280.3\">(None, 1, 2, 2)</text>\n",
       "<polyline fill=\"none\" points=\"181.5,-272.5 279.5,-272.5 \" stroke=\"black\"/>\n",
       "<text font-family=\"Times,serif\" font-size=\"14.00\" text-anchor=\"middle\" x=\"230.5\" y=\"-257.3\">(None, 1, 2, 2)</text>\n",
       "</g>\n",
       "<!-- 140119039390224 -->\n",
       "<g class=\"node\" id=\"node2\"><title>140119039390224</title>\n",
       "<polygon fill=\"none\" points=\"0,-166.5 0,-212.5 294,-212.5 294,-166.5 0,-166.5\" stroke=\"black\"/>\n",
       "<text font-family=\"Times,serif\" font-size=\"14.00\" text-anchor=\"middle\" x=\"70.5\" y=\"-185.8\">conv8: Convolution2D</text>\n",
       "<polyline fill=\"none\" points=\"141,-166.5 141,-212.5 \" stroke=\"black\"/>\n",
       "<text font-family=\"Times,serif\" font-size=\"14.00\" text-anchor=\"middle\" x=\"168.5\" y=\"-197.3\">input:</text>\n",
       "<polyline fill=\"none\" points=\"141,-189.5 196,-189.5 \" stroke=\"black\"/>\n",
       "<text font-family=\"Times,serif\" font-size=\"14.00\" text-anchor=\"middle\" x=\"168.5\" y=\"-174.3\">output:</text>\n",
       "<polyline fill=\"none\" points=\"196,-166.5 196,-212.5 \" stroke=\"black\"/>\n",
       "<text font-family=\"Times,serif\" font-size=\"14.00\" text-anchor=\"middle\" x=\"245\" y=\"-197.3\">(None, 1, 2, 2)</text>\n",
       "<polyline fill=\"none\" points=\"196,-189.5 294,-189.5 \" stroke=\"black\"/>\n",
       "<text font-family=\"Times,serif\" font-size=\"14.00\" text-anchor=\"middle\" x=\"245\" y=\"-174.3\">(None, 4, 2, 2)</text>\n",
       "</g>\n",
       "<!-- 140119041297232&#45;&gt;140119039390224 -->\n",
       "<g class=\"edge\" id=\"edge1\"><title>140119041297232-&gt;140119039390224</title>\n",
       "<path d=\"M147,-249.366C147,-241.152 147,-231.658 147,-222.725\" fill=\"none\" stroke=\"black\"/>\n",
       "<polygon fill=\"black\" points=\"150.5,-222.607 147,-212.607 143.5,-222.607 150.5,-222.607\" stroke=\"black\"/>\n",
       "</g>\n",
       "<!-- 140119039393296 -->\n",
       "<g class=\"node\" id=\"node3\"><title>140119039393296</title>\n",
       "<polygon fill=\"none\" points=\"22.5,-83.5 22.5,-129.5 271.5,-129.5 271.5,-83.5 22.5,-83.5\" stroke=\"black\"/>\n",
       "<text font-family=\"Times,serif\" font-size=\"14.00\" text-anchor=\"middle\" x=\"70.5\" y=\"-102.8\">flatten: Flatten</text>\n",
       "<polyline fill=\"none\" points=\"118.5,-83.5 118.5,-129.5 \" stroke=\"black\"/>\n",
       "<text font-family=\"Times,serif\" font-size=\"14.00\" text-anchor=\"middle\" x=\"146\" y=\"-114.3\">input:</text>\n",
       "<polyline fill=\"none\" points=\"118.5,-106.5 173.5,-106.5 \" stroke=\"black\"/>\n",
       "<text font-family=\"Times,serif\" font-size=\"14.00\" text-anchor=\"middle\" x=\"146\" y=\"-91.3\">output:</text>\n",
       "<polyline fill=\"none\" points=\"173.5,-83.5 173.5,-129.5 \" stroke=\"black\"/>\n",
       "<text font-family=\"Times,serif\" font-size=\"14.00\" text-anchor=\"middle\" x=\"222.5\" y=\"-114.3\">(None, 4, 2, 2)</text>\n",
       "<polyline fill=\"none\" points=\"173.5,-106.5 271.5,-106.5 \" stroke=\"black\"/>\n",
       "<text font-family=\"Times,serif\" font-size=\"14.00\" text-anchor=\"middle\" x=\"222.5\" y=\"-91.3\">(None, 16)</text>\n",
       "</g>\n",
       "<!-- 140119039390224&#45;&gt;140119039393296 -->\n",
       "<g class=\"edge\" id=\"edge2\"><title>140119039390224-&gt;140119039393296</title>\n",
       "<path d=\"M147,-166.366C147,-158.152 147,-148.658 147,-139.725\" fill=\"none\" stroke=\"black\"/>\n",
       "<polygon fill=\"black\" points=\"150.5,-139.607 147,-129.607 143.5,-139.607 150.5,-139.607\" stroke=\"black\"/>\n",
       "</g>\n",
       "<!-- 140119039454352 -->\n",
       "<g class=\"node\" id=\"node4\"><title>140119039454352</title>\n",
       "<polygon fill=\"none\" points=\"44,-0.5 44,-46.5 250,-46.5 250,-0.5 44,-0.5\" stroke=\"black\"/>\n",
       "<text font-family=\"Times,serif\" font-size=\"14.00\" text-anchor=\"middle\" x=\"81.5\" y=\"-19.8\">fc1: Dense</text>\n",
       "<polyline fill=\"none\" points=\"119,-0.5 119,-46.5 \" stroke=\"black\"/>\n",
       "<text font-family=\"Times,serif\" font-size=\"14.00\" text-anchor=\"middle\" x=\"146.5\" y=\"-31.3\">input:</text>\n",
       "<polyline fill=\"none\" points=\"119,-23.5 174,-23.5 \" stroke=\"black\"/>\n",
       "<text font-family=\"Times,serif\" font-size=\"14.00\" text-anchor=\"middle\" x=\"146.5\" y=\"-8.3\">output:</text>\n",
       "<polyline fill=\"none\" points=\"174,-0.5 174,-46.5 \" stroke=\"black\"/>\n",
       "<text font-family=\"Times,serif\" font-size=\"14.00\" text-anchor=\"middle\" x=\"212\" y=\"-31.3\">(None, 16)</text>\n",
       "<polyline fill=\"none\" points=\"174,-23.5 250,-23.5 \" stroke=\"black\"/>\n",
       "<text font-family=\"Times,serif\" font-size=\"14.00\" text-anchor=\"middle\" x=\"212\" y=\"-8.3\">(None, 4)</text>\n",
       "</g>\n",
       "<!-- 140119039393296&#45;&gt;140119039454352 -->\n",
       "<g class=\"edge\" id=\"edge3\"><title>140119039393296-&gt;140119039454352</title>\n",
       "<path d=\"M147,-83.3664C147,-75.1516 147,-65.6579 147,-56.7252\" fill=\"none\" stroke=\"black\"/>\n",
       "<polygon fill=\"black\" points=\"150.5,-56.6068 147,-46.6068 143.5,-56.6069 150.5,-56.6068\" stroke=\"black\"/>\n",
       "</g>\n",
       "</g>\n",
       "</svg>"
      ],
      "text/plain": [
       "<IPython.core.display.SVG object>"
      ]
     },
     "execution_count": 5,
     "metadata": {},
     "output_type": "execute_result"
    }
   ],
   "source": [
    "SVG(model_to_dot(model2,show_shapes=True).create(prog='dot', format='svg'))"
   ]
  },
  {
   "cell_type": "code",
   "execution_count": 6,
   "metadata": {
    "collapsed": false
   },
   "outputs": [],
   "source": [
    "copy_weights(teacher_model=model,student_model=model2)\n",
    "copy_weights(student_model=model2,teacher_model=model)\n",
    "\n",
    "w_conv1, b_conv1 = model.get_layer(\"conv8\").get_weights()\n",
    "w_conv2, b_conv2 = model.get_layer(\"fc1\").get_weights()\n",
    "# new_w_conv1, new_b_conv1, new_w_conv2 = wider_conv2d_weight(\n",
    "#     w_conv1, b_conv1, w_conv2, 256, \"net2wider\")\n",
    "new_w_conv1=np.concatenate([w_conv1,w_conv1],axis=0)\n",
    "new_b_conv1=np.concatenate([b_conv1,b_conv1],axis=0)\n",
    "\n",
    "new_w_conv2=np.concatenate([w_conv2/2,w_conv2/2],axis=0)\n",
    "\n",
    "model2.get_layer(\"conv8\").set_weights([new_w_conv1, new_b_conv1])\n",
    "model2.get_layer(\"fc1\").set_weights([new_w_conv2, b_conv2])\n"
   ]
  },
  {
   "cell_type": "code",
   "execution_count": 7,
   "metadata": {
    "collapsed": false
   },
   "outputs": [
    {
     "name": "stdout",
     "output_type": "stream",
     "text": [
      "[[ 0.94057065  0.53303176  0.27301165 -1.48524463]] \n",
      "[[ 0.94057059  0.53303176  0.27301165 -1.48524451]]\n"
     ]
    }
   ],
   "source": [
    "output_inst=K.function(inputs=[model.input, K.learning_phase()], outputs=[model.output])([input_inst,0])[0]\n",
    "\n",
    "output_inst2=K.function(inputs=[model2.input, K.learning_phase()], outputs=[model2.output])([input_inst,0])[0]\n",
    "print output_inst,'\\n',output_inst2"
   ]
  },
  {
   "cell_type": "code",
   "execution_count": 8,
   "metadata": {
    "collapsed": false
   },
   "outputs": [
    {
     "name": "stdout",
     "output_type": "stream",
     "text": [
      "[[ 0.00403673  0.0991514  -0.16422829 ..., -0.14393231 -0.18624353\n",
      "   0.08966479]] \n",
      "[[-0.00631025  0.09841886 -0.16114923 ..., -0.1372661  -0.18342721\n",
      "   0.09254885]]\n"
     ]
    }
   ],
   "source": [
    "from net2net import *\n",
    "input_shape=(3,16,16)\n",
    "\n",
    "def make_model_for_conv_fc(width,with_activation=False,with_max_pool=False,with_dropout=False):\n",
    "    input_node=Input(shape=(input_shape),name=\"input\")\n",
    "    x=Convolution2D(width,3,3,name='conv8',border_mode=\"same\"\n",
    "                    ,activation='relu'if  with_activation else None\n",
    "                    )(input_node)\n",
    "    x=MaxPooling2D(name=\"pool1\")(x)  if with_max_pool else x\n",
    "    x=Dropout(0.25,name=\"drop1\")(x) if with_dropout else x\n",
    "    x=Flatten(name=\"flatten\")(x)\n",
    "    output_node=Dense(2048,name='fc1'\n",
    "            ,activation='relu'if  with_activation else None\n",
    "            )(x)\n",
    "    model=Model(input=input_node,output=output_node)\n",
    "    model.trainable=False\n",
    "    return model\n",
    "np.random.seed(1)\n",
    "input_inst=np.random.random((1,)+input_shape)\n",
    "new_width=128\n",
    "model=make_model_for_conv_fc(64)\n",
    "model2=make_model_for_conv_fc(new_width)\n",
    "\n",
    "copy_weights(teacher_model=model,student_model=model2)\n",
    "\n",
    "w_conv8, b_conv8 = model.get_layer(\"conv8\").get_weights()\n",
    "w_fc1, b_fc1 = model.get_layer(\"fc1\").get_weights()\n",
    "\n",
    "# new_w_conv1, new_b_conv1, new_w_conv2 = wider_conv2d_weight(\n",
    "#     w_conv1, b_conv1, w_conv2, 256, \"net2wider\")\n",
    "\n",
    "n= new_width - w_conv8.shape[0]\n",
    "index=np.random.randint(w_conv8.shape[0], size=n)\n",
    "factors=np.bincount(index)[index]+1\n",
    "new_w1=w_conv8[index, ...]\n",
    "noise=np.random.normal(0,5e-2*new_w1.std(),size=new_w1.shape)\n",
    "new_w_conv1=np.concatenate([w_conv8, new_w1 + noise], axis=0)\n",
    "new_b1=b_conv8[index]\n",
    "noise=np.random.normal(0,5e-2*new_b1.std(),size=new_b1.shape)\n",
    "new_b_conv1=np.concatenate([b_conv8, new_b1 + noise], axis=0)\n",
    "\n",
    "index_fc = np.empty(shape=[0, ], dtype=int)\n",
    "factor_fc = np.empty(shape=[0, ], dtype=int)\n",
    "for i, j in zip(index.reshape((-1,)), factors.reshape((-1,))):\n",
    "    start = i * 256\n",
    "    end = (i + 1) * 256\n",
    "    #     print index_fc.shape,np.arange(start,end).shape\n",
    "    index_fc = np.concatenate([index_fc, np.arange(start, end)])\n",
    "\n",
    "    factor_fc = np.concatenate([factor_fc,\n",
    "                                j * np.ones(shape=(256,))])\n",
    "\n",
    "new_w2 = w_fc1[index_fc, :] / factor_fc.reshape((-1, 1))\n",
    "noise = np.random.normal(0, 5e-2 * new_w2.std(), size=new_w2.shape)\n",
    "\n",
    "new_w_fc1 = np.concatenate([w_fc1, new_w2 + noise], axis=0)\n",
    "new_w_fc1[index_fc, :] = new_w2\n",
    "\n",
    "model2.get_layer(\"conv8\").set_weights([new_w_conv1, new_b_conv1])\n",
    "model2.get_layer(\"fc1\").set_weights([new_w_fc1, b_fc1])\n",
    "output_inst = K.function(inputs=[model.input, K.learning_phase()], outputs=[model.output])([input_inst, 0])[0]\n",
    "\n",
    "output_inst2 = K.function(inputs=[model2.input, K.learning_phase()], outputs=[model2.output])([input_inst, 0])[0]\n",
    "print output_inst, '\\n', output_inst2"
   ]
  },
  {
   "cell_type": "code",
   "execution_count": 9,
   "metadata": {
    "collapsed": false
   },
   "outputs": [
    {
     "name": "stdout",
     "output_type": "stream",
     "text": [
      "th\n",
      "[[ 0.13650918  0.94425815  0.40023816 -0.015692  ]] \n",
      "[[ 0.12859626  0.94070381  0.4058345   0.00607582]]\n"
     ]
    }
   ],
   "source": [
    "import sys\n",
    "sys.path.insert(0,\"/home/xlwang/NetworkCompress/src\")\n",
    "\n",
    "import os\n",
    "os.environ[\"KERAS_BACKEND\"]=\"theano\"\n",
    "# os.environ[\"KERAS_IMAGE_DIM_ORDERING\"]=\"tf\"\n",
    "import keras\n",
    "from keras import backend as K\n",
    "K.set_image_dim_ordering('th')\n",
    "print keras.backend.image_dim_ordering()\n",
    "from net2net import *\n",
    "# print keras.backend.image_data_format()\n",
    "input_shape=(1,2,2)\n",
    "input_inst=np.random.random((1,)+input_shape)\n",
    "%matplotlib inline\n",
    "def make_model_for_conv_fc(width,with_activation=False,with_max_pool=True,with_dropout=True):\n",
    "    input_node=Input(shape=(input_shape),name=\"input\")\n",
    "    x=Convolution2D(width,1,1,name='conv8',border_mode=\"same\"\n",
    "                    ,activation='relu'if  with_activation else None\n",
    "                    )(input_node)\n",
    "    x=MaxPooling2D(name=\"pool1\")(x)  if with_max_pool else x\n",
    "    x=Dropout(0.25,name=\"drop1\")(x) if with_dropout else x\n",
    "    x=Flatten(name=\"flatten\")(x)\n",
    "    output_node=Dense(4,name='fc1'\n",
    "            ,activation='relu'if  with_activation else None\n",
    "            )(x)\n",
    "    model=Model(input=input_node,output=output_node)\n",
    "    model.trainable=False\n",
    "    return model\n",
    "# np.random.seed(1)\n",
    "# input_inst=np.random.random((1,)+input_shape)\n",
    "new_width=4\n",
    "model=make_model_for_conv_fc(2)\n",
    "model2=make_model_for_conv_fc(new_width)\n",
    "\n",
    "copy_weights(teacher_model=model,student_model=model2)\n",
    "\n",
    "w_conv8, b_conv8 = model.get_layer(\"conv8\").get_weights()\n",
    "w_fc1, b_fc1 = model.get_layer(\"fc1\").get_weights()\n",
    "\n",
    "# new_w_conv1, new_b_conv1, new_w_conv2 = wider_conv2d_weight(\n",
    "#     w_conv1, b_conv1, w_conv2, 256, \"net2wider\")\n",
    "\n",
    "n= new_width - w_conv8.shape[0]\n",
    "index=np.random.randint(w_conv8.shape[0], size=n)\n",
    "factors=np.bincount(index)[index]+1\n",
    "new_w1=w_conv8[index, ...]\n",
    "noise=np.random.normal(0,5e-2*new_w1.std(),size=new_w1.shape)\n",
    "new_w_conv1=np.concatenate([w_conv8, new_w1 + noise], axis=0)\n",
    "new_b1=b_conv8[index]\n",
    "noise=np.random.normal(0,5e-2*new_b1.std(),size=new_b1.shape)\n",
    "new_b_conv1=np.concatenate([b_conv8, new_b1 + noise], axis=0)\n",
    "\n",
    "index_fc = np.empty(shape=[0, ], dtype=int)\n",
    "factor_fc = np.empty(shape=[0, ], dtype=int)\n",
    "for i, j in zip(index.reshape((-1,)), factors.reshape((-1,))):\n",
    "    helper=model.get_layer(\"pool1\").get_output_shape_at(0)[-1]*model.get_layer(\"pool1\").get_output_shape_at(0)[-1]\n",
    "    start = i * helper\n",
    "    end = (i + 1) * helper\n",
    "    #     print index_fc.shape,np.arange(start,end).shape\n",
    "    index_fc = np.concatenate([index_fc, np.arange(start, end)])\n",
    "\n",
    "    factor_fc = np.concatenate([factor_fc,\n",
    "                                j * np.ones(shape=(helper,),dtype=int)])\n",
    "\n",
    "new_w2 = w_fc1[index_fc, :] / factor_fc.reshape((-1, 1))\n",
    "noise = np.random.normal(0, 5e-2 * new_w2.std(), size=new_w2.shape)\n",
    "\n",
    "new_w_fc1 = np.concatenate([w_fc1, new_w2 + noise], axis=0)\n",
    "new_w_fc1[index_fc, :] = new_w2\n",
    "\n",
    "model2.get_layer(\"conv8\").set_weights([new_w_conv1, new_b_conv1])\n",
    "model2.get_layer(\"fc1\").set_weights([new_w_fc1, b_fc1])\n",
    "output_inst = K.function(inputs=[model.input, K.learning_phase()], outputs=[model.output])([input_inst, 0])[0]\n",
    "\n",
    "output_inst2 = K.function(inputs=[model2.input, K.learning_phase()], outputs=[model2.output])([input_inst, 0])[0]\n",
    "print output_inst, '\\n', output_inst2"
   ]
  },
  {
   "cell_type": "code",
   "execution_count": null,
   "metadata": {
    "collapsed": true
   },
   "outputs": [],
   "source": []
  }
 ],
 "metadata": {
  "kernelspec": {
   "display_name": "Python 2",
   "language": "python",
   "name": "python2"
  },
  "language_info": {
   "codemirror_mode": {
    "name": "ipython",
    "version": 2
   },
   "file_extension": ".py",
   "mimetype": "text/x-python",
   "name": "python",
   "nbconvert_exporter": "python",
   "pygments_lexer": "ipython2",
   "version": "2.7.8"
  }
 },
 "nbformat": 4,
 "nbformat_minor": 2
}
