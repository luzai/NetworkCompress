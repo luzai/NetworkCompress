{
 "cells": [
  {
   "cell_type": "code",
   "execution_count": 2,
   "metadata": {},
   "outputs": [],
   "source": [
    "def smooth(x,y):\n",
    "    print len(x),len(y)\n",
    "    import matplotlib.pyplot as plt\n",
    "    from scipy.optimize import curve_fit\n",
    "    from scipy.interpolate import interp1d\n",
    "    from scipy.signal import savgol_filter\n",
    "    import numpy as np\n",
    "    x,y=np.array(x),np.array(y)\n",
    "    # xx = np.linspace(x.min(), x.max(), x.shape[0])\n",
    "    xx=x\n",
    "    # interpolate + smooth\n",
    "    itp = interp1d(x, y, kind='linear')\n",
    "    window_size, poly_order = 101, 3\n",
    "    yy_sg = savgol_filter(itp(xx), window_size, poly_order)\n",
    "    return xx,yy_sg"
   ]
  },
  {
   "cell_type": "code",
   "execution_count": null,
   "metadata": {},
   "outputs": [],
   "source": [
    ""
   ]
  }
 ],
 "metadata": {
  "kernelspec": {
   "display_name": "Python 2",
   "language": "python",
   "name": "python2"
  },
  "language_info": {
   "codemirror_mode": {
    "name": "ipython",
    "version": 2.0
   },
   "file_extension": ".py",
   "mimetype": "text/x-python",
   "name": "python",
   "nbconvert_exporter": "python",
   "pygments_lexer": "ipython2",
   "version": "2.7.8"
  }
 },
 "nbformat": 4,
 "nbformat_minor": 0
}