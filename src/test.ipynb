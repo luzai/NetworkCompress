{
 "cells": [
  {
   "cell_type": "code",
   "execution_count": 10,
   "metadata": {},
   "outputs": [],
   "source": [
    "import sys\n",
    "sys.path.insert(0,\"/home/xlwang/NetworkCompress/src\")\n",
    "from net2net import *"
   ]
  },
  {
   "cell_type": "code",
   "execution_count": 35,
   "metadata": {},
   "outputs": [
    {
     "name": "stdout",
     "output_type": "stream",
     "text": [
      "['input_5', 'conv1', 'pool1', 'dropout_13', 'conv2', 'pool2', 'dropout_14', 'flatten', 'fc1', 'dropout_15', 'fc2', 'activation_5']\n"
     ]
    }
   ],
   "source": [
    "from net2net import *\n",
    "from keras.layers import Dropout,LSTM,Embedding,Activation\n",
    "from sklearn.preprocessing import MultiLabelBinarizer\n",
    "from net2net  import *\n",
    "\n",
    "image_input = Input(shape=input_shape)\n",
    "\n",
    "conv1 = Conv2D(64, 3, 3,\n",
    "               border_mode='same', name='conv1', activation='relu')(image_input)\n",
    "pool1 = MaxPooling2D(name='pool1')(conv1)\n",
    "drop1 = Dropout(0.25)(pool1)\n",
    "\n",
    "conv2 = Conv2D(64, 3, 3, border_mode='same', name='conv2', activation='relu')(drop1)\n",
    "pool2 = MaxPooling2D(name='pool2')(conv2)\n",
    "drop2 = Dropout(0.25)(pool2)\n",
    "\n",
    "flatten = Flatten(name='flatten')(drop2)\n",
    "fc1 = Dense(64, activation='relu', name='fc1')(flatten)\n",
    "fc1_drop1 = Dropout(0.5)(fc1)\n",
    "logits = Dense(nb_class, name='fc2')(fc1_drop1)\n",
    "output = Activation('softmax')(logits)\n",
    "\n",
    "model = Model(input=image_input, output=[logits, output])\n",
    "\n",
    "model.compile(loss=['mean_squared_error', 'categorical_crossentropy'],\n",
    "              loss_weights=[1, 0],\n",
    "              optimizer=SGD(lr=0.01, momentum=0.9),\n",
    "              metrics=['accuracy'])\n",
    "print([l.name for l in model.layers])\n",
    "save_model_config(model,\"functional\")"
   ]
  },
  {
   "cell_type": "code",
   "execution_count": 38,
   "metadata": {},
   "outputs": [
    {
     "ename": "AttributeError",
     "evalue": "can't set attribute",
     "traceback": [
      "\u001b[0;31m\u001b[0m",
      "\u001b[0;31mAttributeError\u001b[0mTraceback (most recent call last)",
      "\u001b[0;32m<ipython-input-38-76a7a1aac1fb>\u001b[0m in \u001b[0;36m<module>\u001b[0;34m()\u001b[0m\n\u001b[0;32m----> 1\u001b[0;31m \u001b[0mmodel\u001b[0m\u001b[0;34m.\u001b[0m\u001b[0mlayers\u001b[0m\u001b[0;34m[\u001b[0m\u001b[0;36m1\u001b[0m\u001b[0;34m]\u001b[0m\u001b[0;34m.\u001b[0m\u001b[0minput\u001b[0m\u001b[0;34m=\u001b[0m\u001b[0mmodel\u001b[0m\u001b[0;34m.\u001b[0m\u001b[0mlayers\u001b[0m\u001b[0;34m[\u001b[0m\u001b[0;36m0\u001b[0m\u001b[0;34m]\u001b[0m\u001b[0;34m.\u001b[0m\u001b[0moutput\u001b[0m\u001b[0;34m\u001b[0m\u001b[0m\n\u001b[0m",
      "\u001b[0;31mAttributeError\u001b[0m: can't set attribute"
     ],
     "output_type": "error"
    }
   ],
   "source": [
    "model.layers[1].input=model.layers[0].output\n",
    "model.layers.pop()"
   ]
  }
 ],
 "metadata": {
  "kernelspec": {
   "display_name": "Python 2",
   "language": "python",
   "name": "python2"
  },
  "language_info": {
   "codemirror_mode": {
    "name": "ipython",
    "version": 2.0
   },
   "file_extension": ".py",
   "mimetype": "text/x-python",
   "name": "python",
   "nbconvert_exporter": "python",
   "pygments_lexer": "ipython2",
   "version": "2.7.8"
  }
 },
 "nbformat": 4,
 "nbformat_minor": 0
}