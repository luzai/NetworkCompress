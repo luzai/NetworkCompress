{
 "cells": [
  {
   "cell_type": "code",
   "execution_count": 133,
   "metadata": {
    "collapsed": false,
    "deletable": true,
    "editable": true
   },
   "outputs": [],
   "source": [
    "import sys\n",
    "sys.path.insert(0,\"/home/xlwang/NetworkCompress/src\")\n",
    "from net2net import *"
   ]
  },
  {
   "cell_type": "code",
   "execution_count": 11,
   "metadata": {
    "collapsed": false,
    "deletable": true,
    "editable": true
   },
   "outputs": [],
   "source": [
    "import os\n",
    "# os.environ[\"KERAS_BACKEND\"]=\"tensorflow\""
   ]
  },
  {
   "cell_type": "code",
   "execution_count": 12,
   "metadata": {
    "collapsed": false,
    "deletable": true,
    "editable": true
   },
   "outputs": [],
   "source": [
    "import keras"
   ]
  },
  {
   "cell_type": "code",
   "execution_count": 5,
   "metadata": {
    "collapsed": false,
    "deletable": true,
    "editable": true
   },
   "outputs": [
    {
     "name": "stdout",
     "output_type": "stream",
     "text": [
      "None\n",
      "-1\n"
     ]
    }
   ],
   "source": [
    "# using get will return `None` if a key is not present rather than raise a `KeyError`\n",
    "print os.environ.get('KEY_THAT_MIGHT_EXIST')\n",
    "\n",
    "# os.getenv is equivalent, and can also give a default value instead of `None`\n",
    "print os.getenv('KEY_THAT_MIGHT_EXIST', -1)"
   ]
  },
  {
   "cell_type": "code",
   "execution_count": 10,
   "metadata": {
    "collapsed": false,
    "deletable": true,
    "editable": true
   },
   "outputs": [
    {
     "name": "stdout",
     "output_type": "stream",
     "text": [
      "['LESS', 'LC_CTYPE', 'KERAS_BACKEND', 'SSH_CLIENT', 'LOGNAME', 'USER', 'PATH', 'MPLBACKEND', 'PS1', 'ZSH', 'LD_LIBRARY_PATH', 'SSH_CONNECTION', 'LANG', 'TERM', 'SHELL', 'LANGUAGE', 'SHLVL', 'PWD', 'DISPLAY', 'HOME', 'XDG_RUNTIME_DIR', 'JPY_PARENT_PID', 'PYTHONPATH', 'VIRTUAL_ENV', 'AUTOJUMP_ERROR_PATH', 'GIT_PAGER', 'XDG_SESSION_ID', 'STY', '_', 'TERMCAP', 'LSCOLORS', 'AUTOJUMP_SOURCED', 'SSH_TTY', 'OLDPWD', 'CLICOLOR', 'WINDOW', 'MAIL', 'LS_COLORS', 'PAGER']\n"
     ]
    }
   ],
   "source": [
    "# print os.environ['HOME']\n",
    "# print dict(os.environ)\n",
    "print dict(os.environ).keys()"
   ]
  },
  {
   "cell_type": "code",
   "execution_count": 23,
   "metadata": {
    "collapsed": false,
    "deletable": true,
    "editable": true
   },
   "outputs": [
    {
     "name": "stdout",
     "output_type": "stream",
     "text": [
      " X_transfer shape is:  (15770, 3, 32, 32)\n",
      "Y_transfer shape is:  (15770,)\n",
      "('train_logits.shape: ', (65770, 10))\n",
      "('test_logits.shape: ', (10000, 10))\n",
      "\n",
      "\n",
      "---------------------------------------\n",
      "\n",
      "\n",
      "train_img.shape (6, 3, 32, 32) \n",
      "train_y (6, 10) test_img.shape (1, 3, 32, 32) \n",
      "test_y (1, 10) ['conv1', 'pool1', 'conv2', 'pool2', 'flatten', 'fc1', 'fc2']\n",
      "Train on 6 samples, validate on 1 samples\n",
      "Epoch 1/2\n",
      "0s - loss: 2.3395 - acc: 0.3333 - val_loss: 2.2729 - val_acc: 0.0000e+00\n",
      "Epoch 2/2\n",
      "0s - loss: 2.2586 - acc: 0.3333 - val_loss: 2.2972 - val_acc: 0.0000e+00\n"
     ]
    }
   ],
   "source": [
    "train_data, validation_data = load_data(True)\n",
    "\n",
    "\"\"\"train teacher model\"\"\"\n",
    "teacher_model, history = make_teacher_model(\n",
    "    train_data, validation_data,\n",
    "    2,\n",
    "    2\n",
    ")"
   ]
  },
  {
   "cell_type": "code",
   "execution_count": null,
   "metadata": {
    "collapsed": true,
    "deletable": true,
    "editable": true
   },
   "outputs": [],
   "source": [
    "teacher_model.get_layer(\"conv2\").get_weights()[0].shape\n",
    "\n",
    "teacher_model.get_layer(\"conv2\").get_weights()[1].shape\n",
    "\n",
    "teacher_model.layers"
   ]
  },
  {
   "cell_type": "code",
   "execution_count": null,
   "metadata": {
    "collapsed": true,
    "deletable": true,
    "editable": true
   },
   "outputs": [],
   "source": [
    "vgg_conv_width=[64,64,\n",
    "                128,128,\n",
    "                256,256,256,256]\n",
    "vgg_fc_width=[2048,1024,10]"
   ]
  },
  {
   "cell_type": "code",
   "execution_count": 37,
   "metadata": {
    "collapsed": false,
    "deletable": true,
    "editable": true
   },
   "outputs": [],
   "source": [
    "with open(\"debug.pkl\",\"r\") as f:\n",
    "    t=cPickle.load(f)\n",
    "[teacher_w1, teacher_b1, teacher_w2, new_width]=t"
   ]
  },
  {
   "cell_type": "code",
   "execution_count": 50,
   "metadata": {
    "collapsed": false,
    "deletable": true,
    "editable": true
   },
   "outputs": [
    {
     "data": {
      "text/plain": [
       "((64, 3, 3, 3), (64,), (64, 64, 3, 3), 128)"
      ]
     },
     "execution_count": 50,
     "metadata": {},
     "output_type": "execute_result"
    }
   ],
   "source": [
    "teacher_w1.shape,teacher_b1.shape,teacher_w2.shape,new_width"
   ]
  },
  {
   "cell_type": "code",
   "execution_count": 60,
   "metadata": {
    "collapsed": false,
    "deletable": true,
    "editable": true
   },
   "outputs": [
    {
     "name": "stdout",
     "output_type": "stream",
     "text": [
      "[ 3.  2.  2.  2.  3.  2.  3.  2.  2.  3.  2.  3.  2.  3.  3.  2.  2.  4.\n",
      "  3.  3.  3.  3.  2.  4.  3.  2.  2.  4.  3.  3.  3.  3.  4.  2.  2.  4.\n",
      "  3.  4.  3.  3.  2.  3.  3.  3.  2.  4.  4.  4.  4.  2.  3.  3.  3.  2.\n",
      "  2.  4.  3.  3.  2.  4.  3.  2.  3.  3.]\n",
      "(1, 64, 1, 1)\n",
      "<built-in method astype of numpy.ndarray object at 0x7ff0e2ddcda0> (64,)\n"
     ]
    }
   ],
   "source": [
    "n = new_width - teacher_w1.shape[0]\n",
    "index = np.random.randint(teacher_w1.shape[0], size=n)\n",
    "factors = np.bincount(index)[index] + 1.\n",
    "/print factors\n",
    "new_w1 = teacher_w1[index, :, :, :]\n",
    "new_b1 = teacher_b1[index]\n",
    "new_w2 = teacher_w2[:, index, :, :] / factors.reshape((1, -1, 1, 1))\n",
    "\n",
    "print( factors.reshape((1,-1, 1, 1)).shape)\n",
    "/print factors.astype  factors.shape\n",
    "student_w1 = np.concatenate((teacher_w1, new_w1), axis=0)\n",
    "# add small noise to break symmetry, so that student model will have\n",
    "# full capacity later\n",
    "noise = np.random.normal(0, 5e-2 * new_w2.std(), size=new_w2.shape)\n",
    "student_w2 = np.concatenate((teacher_w2, new_w2 + noise), axis=1)\n",
    "student_w2[:, index, :, :] = new_w2\n",
    "student_b1 = np.concatenate((teacher_b1, new_b1), axis=0)"
   ]
  },
  {
   "cell_type": "code",
   "execution_count": 62,
   "metadata": {
    "collapsed": false,
    "deletable": true,
    "editable": true
   },
   "outputs": [
    {
     "data": {
      "text/plain": [
       "((128, 3, 3, 3), (128,), (64, 128, 3, 3))"
      ]
     },
     "execution_count": 62,
     "metadata": {},
     "output_type": "execute_result"
    }
   ],
   "source": [
    "student_w1.shape,student_b1.shape,student_w2.shape"
   ]
  },
  {
   "cell_type": "code",
   "execution_count": 66,
   "metadata": {
    "collapsed": false,
    "deletable": true,
    "editable": true
   },
   "outputs": [],
   "source": [
    "n = new_width - teacher_w1.shape[0]\n",
    "index = np.random.randint(teacher_w1.shape[0], size=n)\n",
    "factors = np.bincount(index)[index] + 1.\n",
    "new_w1 = teacher_w1[index, :, :, :]/factors.reshape((-1,1,1,1))\n",
    "noise = np.random.normal(0, 5e-2 * new_w1.std(), size=new_w1.shape)\n",
    "student_w1 = np.concatenate((teacher_w1, new_w1+noise), axis=0)\n",
    "student_w1=student_w1[index,:,:,:]=new_w1\n",
    "\n",
    "new_b1 = teacher_b1[index]/factors\n",
    "noise = np.random.normal(0, 5e-2 * new_b1.std(), size=new_b1.shape)\n",
    "student_b1 = np.concatenate((teacher_b1, new_b1+noise), axis=0)\n",
    "student_b1=student_b1[index]"
   ]
  },
  {
   "cell_type": "code",
   "execution_count": null,
   "metadata": {
    "collapsed": true,
    "deletable": true,
    "editable": true
   },
   "outputs": [],
   "source": []
  }
 ],
 "metadata": {
  "kernelspec": {
   "display_name": "Python 2",
   "language": "python",
   "name": "python2"
  },
  "language_info": {
   "codemirror_mode": {
    "name": "ipython",
    "version": 2
   },
   "file_extension": ".py",
   "mimetype": "text/x-python",
   "name": "python",
   "nbconvert_exporter": "python",
   "pygments_lexer": "ipython2",
   "version": "2.7.8"
  }
 },
 "nbformat": 4,
 "nbformat_minor": 0
}
