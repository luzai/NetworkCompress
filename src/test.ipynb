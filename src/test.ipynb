{
 "cells": [
  {
   "cell_type": "code",
   "execution_count": 2,
   "metadata": {},
   "outputs": [],
   "source": [
    "def smooth(x,y):\n",
    "    print len(x),len(y)\n",
    "    import matplotlib.pyplot as plt\n",
    "    from scipy.optimize import curve_fit\n",
    "    from scipy.interpolate import interp1d\n",
    "    from scipy.signal import savgol_filter\n",
    "    import numpy as np\n",
    "    x,y=np.array(x),np.array(y)\n",
    "    # xx = np.linspace(x.min(), x.max(), x.shape[0])\n",
    "    xx=x\n",
    "    # interpolate + smooth\n",
    "    itp = interp1d(x, y, kind='linear')\n",
    "    window_size, poly_order = 101, 3\n",
    "    yy_sg = savgol_filter(itp(xx), window_size, poly_order)\n",
    "    return xx,yy_sg"
   ]
  },
  {
   "cell_type": "code",
   "execution_count": 13,
   "metadata": {},
   "outputs": [
    {
     "name": "stdout",
     "output_type": "stream",
     "text": [
      "[[98014 75499 58873 ..., 22755 35185 98248]\n [ 7614 30147 87573 ..., 12405 62816 21973]\n [61596 11243 21679 ..., 19221 66325 12738]\n ..., \n [73836 25201 65811 ...,  4469 85134  3866]\n [24330 11773 45438 ..., 23765  5075 11986]\n [ 1351  1339 29893 ..., 48251 25692 39692]]\n[[44989 27133 23370 ..., 30566 90952 61661]\n [15895  5748 77679 ..., 21285 56669 99690]\n [47421 61376 85171 ..., 42789 17712 17019]\n ..., \n [33252 86662 29604 ..., 39532 41833 57919]\n [38660 71651 94134 ..., 38220 98310  3018]\n [16058 44703  3532 ...,  4689 66671  9522]]\n"
     ]
    }
   ],
   "source": [
    "print x"
   ]
  },
  {
   "cell_type": "code",
   "execution_count": 12,
   "metadata": {},
   "outputs": [
    {
     "name": "stderr",
     "output_type": "stream",
     "text": [
      "Using Theano backend.\n"
     ]
    },
    {
     "name": "stderr",
     "output_type": "stream",
     "text": [
      "Using gpu device 0: Quadro M5000 (CNMeM is enabled with initial size: 0.1% of memory, cuDNN 5110)\n/usr/lib/python2.7/site-packages/theano/sandbox/cuda/__init__.py:600: UserWarning: Your cuDNN version is more recent than the one Theano officially supports. If you see any problems, try updating Theano or downgrading cuDNN to version 5.\n  warnings.warn(warn)\n"
     ]
    },
    {
     "name": "stderr",
     "output_type": "stream",
     "text": [
      "/usr/lib/python2.7/site-packages/subprocess32.py:472: RuntimeWarning: The _posixsubprocess module is not being used. Child process reliability may suffer if your program uses threads.\n  \"program uses threads.\", RuntimeWarning)\n"
     ]
    },
    {
     "name": "stdout",
     "output_type": "stream",
     "text": [
      "\n\n------------------------------\n\n\n('x.shape:', (10000, 50))\n('y.shape:', (10000, 10))\n"
     ]
    }
   ],
   "source": [
    "from net2net import *\n",
    "from keras.layers import Dropout,LSTM,Embedding,Activation\n",
    "from sklearn.preprocessing import MultiLabelBinarizer\n",
    "\n",
    "DH = 200\n",
    "N_WORDS = 100000\n",
    "SEQ_LENGTH = 50\n",
    "N_CLASSES = 10\n",
    "N_EXAMPLES = 10000\n",
    "\n",
    "x = np.random.randint(N_WORDS, size=(N_EXAMPLES, SEQ_LENGTH))\n",
    "x_test = np.random.randint(N_WORDS, size=(N_EXAMPLES, SEQ_LENGTH))\n",
    "y = np.random.randint(N_CLASSES, size=(N_EXAMPLES, 1))\n",
    "y = MultiLabelBinarizer().fit_transform(y)  # encode in one-hot\n",
    "\n",
    "print('x.shape:', x.shape)\n",
    "print('y.shape:', y.shape)"
   ]
  }
 ],
 "metadata": {
  "kernelspec": {
   "display_name": "Python 2",
   "language": "python",
   "name": "python2"
  },
  "language_info": {
   "codemirror_mode": {
    "name": "ipython",
    "version": 2.0
   },
   "file_extension": ".py",
   "mimetype": "text/x-python",
   "name": "python",
   "nbconvert_exporter": "python",
   "pygments_lexer": "ipython2",
   "version": "2.7.8"
  }
 },
 "nbformat": 4,
 "nbformat_minor": 0
}