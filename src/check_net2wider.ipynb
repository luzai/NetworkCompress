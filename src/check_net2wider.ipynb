{
 "cells": [
  {
   "cell_type": "code",
   "execution_count": 36,
   "metadata": {
    "collapsed": false,
    "deletable": true,
    "editable": true
   },
   "outputs": [],
   "source": [
    "# coding: utf-8\n",
    "import sys\n",
    "sys.path.insert(0,\"/home/xlwang/NetworkCompress/src\")\n",
    "from net2net import *\n",
    "input_shape=(64,16,16)\n",
    "%matplotlib inline"
   ]
  },
  {
   "cell_type": "code",
   "execution_count": 37,
   "metadata": {
    "collapsed": true
   },
   "outputs": [],
   "source": [
    "def make_model_for_conv_fc(width):\n",
    "    input_node=Input(shape=(input_shape),name=\"input\")\n",
    "    x = Convolution2D(64, 3, 3, name='conv7'\n",
    "                      # ,activation='relu'\n",
    "                      )(input_node)\n",
    "    x=Convolution2D(width,3,3,name='conv8'\n",
    "                    # ,activation='relu'\n",
    "                    )(x)\n",
    "    # x=MaxPooling2D(name='pool8')(x)\n",
    "    # x=Dropout(0.25)(x)\n",
    "    x=Flatten(name=\"flatten\")(x)\n",
    "    output_node=Dense(64,name='fc1'\n",
    "            # ,activation='relu'\n",
    "            )(x)\n",
    "    model=Model(input=input_node,output=output_node)\n",
    "    model.trainable=False\n",
    "    return model\n",
    "\n",
    "def make_model_for_conv_conv(width):\n",
    "    input_node=Input(shape=(input_shape),name=\"input\")\n",
    "    x = Convolution2D(width, 3, 3, name='conv7'\n",
    "                      # ,activation='relu'\n",
    "                      )(input_node)\n",
    "    x=Convolution2D(256,3,3,name='conv8'\n",
    "                    # ,activation='relu'\n",
    "                    )(x)\n",
    "    # x=MaxPooling2D(name='pool8')(x)\n",
    "    # x=Dropout(0.25)(x)\n",
    "    x=Flatten(name=\"flatten\")(x)\n",
    "    output_node=Dense(64,name='fc1'\n",
    "            # ,activation='relu'\n",
    "            )(x)\n",
    "    model=Model(input=input_node,output=output_node)\n",
    "    model.trainable=False\n",
    "    return model"
   ]
  },
  {
   "cell_type": "code",
   "execution_count": 38,
   "metadata": {
    "collapsed": false,
    "deletable": true,
    "editable": true
   },
   "outputs": [
    {
     "name": "stdout",
     "output_type": "stream",
     "text": [
      "[ 0.97469419 -0.36888629  0.15662831 -0.05284353  0.45348334]\n"
     ]
    },
    {
     "data": {
      "image/png": "[encoded data removed]",
      "text/plain": [
       "<matplotlib.figure.Figure at 0x7f7ab456d910>"
      ]
     },
     "metadata": {},
     "output_type": "display_data"
    },
    {
     "data": {
      "image/png": "[encoded data removed]",
      "text/plain": [
       "<matplotlib.figure.Figure at 0x7f7ab442d0d0>"
      ]
     },
     "metadata": {},
     "output_type": "display_data"
    }
   ],
   "source": [
    "np.random.seed(1)\n",
    "model=make_model_for_conv_conv(64)\n",
    "input_inst=np.random.random((1,)+input_shape)\n",
    "output_inst=K.function(inputs=[model.input, K.learning_phase()], outputs=[model.output])([input_inst,0])\n",
    "# plt.switch_backend(\"TkAgg\")\n",
    "# get_ipython().magic(u'matplotlib inline')\n",
    "print output_inst[0].ravel()[:5]\n",
    "plt.figure()\n",
    "plt.imshow(input_inst[0][0])\n",
    "plt.figure()\n",
    "plt.imshow(output_inst[0])\n",
    "_=plt.axis(\"off\")"
   ]
  },
  {
   "cell_type": "code",
   "execution_count": 39,
   "metadata": {
    "collapsed": false,
    "deletable": true,
    "editable": true
   },
   "outputs": [
    {
     "name": "stdout",
     "output_type": "stream",
     "text": [
      "['input', 'conv7', 'conv8', 'flatten', 'fc1']\n",
      "['input', 'conv7', 'conv8', 'flatten', 'fc1']\n"
     ]
    }
   ],
   "source": [
    "model2=make_model_for_conv_conv(256)\n",
    "print [l.name for l in model.layers]\n",
    "print [l.name for l in model2.layers]"
   ]
  },
  {
   "cell_type": "code",
   "execution_count": 40,
   "metadata": {
    "collapsed": false,
    "deletable": true,
    "editable": true
   },
   "outputs": [],
   "source": [
    "copy_weights(student_model=model2,teacher_model=model)\n",
    "w_conv1, b_conv1 = model.get_layer(\"conv7\").get_weights()\n",
    "w_conv2, b_conv2 = model.get_layer(\"conv8\").get_weights()\n",
    "new_w_conv1, new_b_conv1, new_w_conv2 = wider_conv2d_weight(\n",
    "    w_conv1, b_conv1, w_conv2, 256, \"net2wider\")\n",
    "model2.get_layer(\"conv7\").set_weights([new_w_conv1, new_b_conv1])\n",
    "model2.get_layer(\"conv8\").set_weights([new_w_conv2, b_conv2])"
   ]
  },
  {
   "cell_type": "code",
   "execution_count": 41,
   "metadata": {
    "collapsed": false,
    "deletable": true,
    "editable": true
   },
   "outputs": [
    {
     "name": "stdout",
     "output_type": "stream",
     "text": [
      "[ 0.94842249 -0.36223754  0.17102721 -0.04181549  0.44683617]\n",
      "3.55702 3.55702\n"
     ]
    },
    {
     "data": {
      "image/png": "[encoded data removed]",
      "text/plain": [
       "<matplotlib.figure.Figure at 0x7f7ab37e1ed0>"
      ]
     },
     "metadata": {},
     "output_type": "display_data"
    }
   ],
   "source": [
    "output_inst2=K.function(inputs=[model2.input, K.learning_phase()], outputs=[model2.output])([input_inst,0])\n",
    "# plt.switch_backend(\"TkAgg\")\n",
    "# get_ipython().magic(u'matplotlib inline')\n",
    "print output_inst2[0].ravel()[:5]\n",
    "plt.figure()\n",
    "plt.imshow(output_inst2[0])\n",
    "_=plt.axis(\"off\")\n",
    "\n",
    "print output_inst[0].sum(),output_inst[0].sum()"
   ]
  },
  {
   "cell_type": "code",
   "execution_count": 42,
   "metadata": {
    "collapsed": false,
    "deletable": true,
    "editable": true
   },
   "outputs": [
    {
     "name": "stdout",
     "output_type": "stream",
     "text": [
      "[ 0.11219031 -0.18956055  0.49331215  0.06121677  2.24271488]\n",
      "['input', 'conv7', 'conv8', 'flatten', 'fc1']\n",
      "['input', 'conv7', 'conv8', 'flatten', 'fc1']\n"
     ]
    },
    {
     "data": {
      "image/png": "[encoded data removed]",
      "text/plain": [
       "<matplotlib.figure.Figure at 0x7f7ab369ee90>"
      ]
     },
     "metadata": {},
     "output_type": "display_data"
    },
    {
     "data": {
      "image/png": "[encoded data removed]",
      "text/plain": [
       "<matplotlib.figure.Figure at 0x7f7ab37ff390>"
      ]
     },
     "metadata": {},
     "output_type": "display_data"
    }
   ],
   "source": [
    "np.random.seed(1)\n",
    "model=make_model_for_conv_fc(64)\n",
    "input_inst=np.random.random((1,)+input_shape)\n",
    "output_inst=K.function(inputs=[model.input, K.learning_phase()], outputs=[model.output])([input_inst,0])\n",
    "# plt.switch_backend(\"TkAgg\")\n",
    "# get_ipython().magic(u'matplotlib inline')\n",
    "print output_inst[0].ravel()[:5]\n",
    "plt.figure()\n",
    "plt.imshow(input_inst[0][0])\n",
    "plt.figure()\n",
    "plt.imshow(output_inst[0])\n",
    "_=plt.axis(\"off\")\n",
    "\n",
    "model2=make_model_for_conv_fc(256)\n",
    "print [l.name for l in model.layers]\n",
    "print [l.name for l in model2.layers]"
   ]
  },
  {
   "cell_type": "code",
   "execution_count": 43,
   "metadata": {
    "collapsed": false,
    "deletable": true,
    "editable": true
   },
   "outputs": [],
   "source": [
    "copy_weights(student_model=model2,teacher_model=model)\n",
    "w_conv1, b_conv1 = model.get_layer(\"conv8\").get_weights()\n",
    "new_w_conv1, new_b_conv1 = wider_conv2d_weight(\n",
    "                w_conv1, b_conv1, None, 256, \"net2wider\"\n",
    "            )\n",
    "model2.get_layer(\"conv8\").set_weights([new_w_conv1, new_b_conv1])"
   ]
  },
  {
   "cell_type": "code",
   "execution_count": 46,
   "metadata": {
    "collapsed": false
   },
   "outputs": [
    {
     "name": "stdout",
     "output_type": "stream",
     "text": [
      "[ 0.11219031 -0.18956055  0.49331215  0.06121677  2.24271488] \n",
      "[ 0.32567731  0.42195091  0.33171552  0.07901121  0.18564957]\n",
      "2.72978 2.72978\n"
     ]
    },
    {
     "data": {
      "text/plain": [
       "<matplotlib.legend.Legend at 0x7f7ab32ed610>"
      ]
     },
     "execution_count": 46,
     "metadata": {},
     "output_type": "execute_result"
    },
    {
     "data": {
      "image/png": "[encoded data removed]",
      "text/plain": [
       "<matplotlib.figure.Figure at 0x7f7ab4dca850>"
      ]
     },
     "metadata": {},
     "output_type": "display_data"
    },
    {
     "data": {
      "image/png": "[encoded data removed]",
      "text/plain": [
       "<matplotlib.figure.Figure at 0x7f7ab32ede50>"
      ]
     },
     "metadata": {},
     "output_type": "display_data"
    }
   ],
   "source": [
    "output_inst2=K.function(inputs=[model2.input, K.learning_phase()], outputs=[model2.output])([input_inst,0])\n",
    "# plt.switch_backend(\"TkAgg\")\n",
    "# get_ipython().magic(u'matplotlib inline')\n",
    "print output_inst[0].ravel()[:5],\"\\n\",output_inst2[0].ravel()[:5]\n",
    "plt.figure()\n",
    "plt.imshow(output_inst2[0])\n",
    "_=plt.axis(\"off\")\n",
    "\n",
    "print output_inst[0].sum(),output_inst[0].sum()\n",
    "plt.figure()\n",
    "plt.plot(output_inst[0][0])\n",
    "plt.plot(output_inst2[0][0])\n",
    "plt.legend([\"before\",\"after\"])"
   ]
  },
  {
   "cell_type": "code",
   "execution_count": null,
   "metadata": {
    "collapsed": true
   },
   "outputs": [],
   "source": [
    ""
   ]
  }
 ],
 "metadata": {
  "kernelspec": {
   "display_name": "Python 2",
   "language": "python",
   "name": "python2"
  },
  "language_info": {
   "codemirror_mode": {
    "name": "ipython",
    "version": 2.0
   },
   "file_extension": ".py",
   "mimetype": "text/x-python",
   "name": "python",
   "nbconvert_exporter": "python",
   "pygments_lexer": "ipython2",
   "version": "2.7.8"
  }
 },
 "nbformat": 4,
 "nbformat_minor": 0
}